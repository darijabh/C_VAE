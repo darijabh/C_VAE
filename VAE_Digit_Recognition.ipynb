{
  "nbformat": 4,
  "nbformat_minor": 0,
  "metadata": {
    "colab": {
      "provenance": [],
      "toc_visible": true
    },
    "kernelspec": {
      "name": "python3",
      "display_name": "Python 3"
    },
    "language_info": {
      "name": "python"
    },
    "accelerator": "GPU"
  },
  "cells": [
    {
      "cell_type": "markdown",
      "source": [
        "# Training and evaluating VAEs with MNIST data.\n",
        "\n",
        "*\"Auto-Encoding Variational Bayes\" by Diederik P. Kingma and Max Welling (2013).*\n",
        "\n",
        "\n",
        "**Variational Autoencoders** (VAEs) are a powerful and versatile **deep learning technique**. Applied to the MNIST dataset, VAEs learn to generate new **handwritten digit image**s. They work by **encoding** each 28x28 pixel image into a smaller, compressed representation called a **latent space**. This latent space captures the essential features of the digits, like the overall shape and style. From this compressed representation, the VAE can then **decode and reconstruct** the image, generating new variations of handwritten digits similar to those it was trained on. This process allows VAEs to not only reproduce existing digits but also create entirely new ones that maintain the characteristics of the MNIST dataset, effectively learning the underlying distribution of handwritten digits.\n",
        "\n",
        "Factors that make VAEs a relatively \"advanced\" technique:\n",
        "1. **Probabilistic Nature:** VAEs are built on a probabilistic framework, modeling the data distribution and using variational inference. This adds complexity but also allows for generating new data.   \n",
        "2. **Reparameterization Trick:** This clever technique makes it possible to train VAEs using backpropagation despite the stochastic sampling involved.  \n",
        "3. **Latent Space Representation:** VAEs learn a meaningful latent space that captures the underlying structure of the data. This latent space can be used for various tasks like generating new data, interpolating between data points, and anomaly detection.  "
      ],
      "metadata": {
        "id": "ZqklRhUm7NNB"
      }
    },
    {
      "cell_type": "markdown",
      "source": [
        "Load all packages, select the device to be GPU, if GPU non-avaliable, use CPU instead."
      ],
      "metadata": {
        "id": "Q3_HIOwc7hPz"
      }
    },
    {
      "cell_type": "code",
      "source": [
        "import torch\n",
        "import torchvision\n",
        "import torchvision.transforms as transforms\n",
        "import torch.nn as nn\n",
        "import torch.nn.functional as F\n",
        "from torch.utils.data import DataLoader, TensorDataset\n",
        "import random\n",
        "import numpy as np\n",
        "from torchvision.utils import save_image\n",
        "import cv2\n",
        "import matplotlib.pyplot as plt\n",
        "device = torch.device('cuda' if torch.cuda.is_available() else 'cpu')\n",
        "print(\"Device used is\", device)"
      ],
      "metadata": {
        "colab": {
          "base_uri": "https://localhost:8080/"
        },
        "id": "nJHxCL0m7bbq",
        "outputId": "54fd893a-5eba-4136-c9fd-3920ae7aa1a2"
      },
      "execution_count": 280,
      "outputs": [
        {
          "output_type": "stream",
          "name": "stdout",
          "text": [
            "Device used is cpu\n"
          ]
        }
      ]
    },
    {
      "cell_type": "markdown",
      "source": [
        "## Load and prepare data."
      ],
      "metadata": {
        "id": "S9TxbwKM8NKJ"
      }
    },
    {
      "cell_type": "markdown",
      "metadata": {
        "id": "nA9xjsR5H0nK"
      },
      "source": [
        "Download the train data. The MNIST dataset contains 60,000 images in the train dataset. Reduce this to 20,000 by sampling 2,000 randomly for each digit 0-9. NB: variable 'samples' specifies the number of samples per class. If not using data augmentation (see below), you can reduce to probably 1,000 samples per label. This will speed up training.\n",
        "\n"
      ]
    },
    {
      "cell_type": "code",
      "metadata": {
        "id": "AAL5XsEINLlN",
        "colab": {
          "base_uri": "https://localhost:8080/"
        },
        "outputId": "f1b5c6f1-4880-4fcb-9b0a-b014971eed05"
      },
      "source": [
        "train_set = torchvision.datasets.MNIST(root='./data', train = True, download = True, transform = transforms.ToTensor())\n",
        "\n",
        "x_train = train_set.data.numpy()\n",
        "y_train = train_set.targets.numpy()\n",
        "\n",
        "print('Train set shape:', x_train.shape)\n",
        "print('Train labels shape:', y_train.shape)\n"
      ],
      "execution_count": 281,
      "outputs": [
        {
          "output_type": "stream",
          "name": "stdout",
          "text": [
            "Train set shape: (60000, 28, 28)\n",
            "Train labels shape: (60000,)\n"
          ]
        }
      ]
    },
    {
      "cell_type": "code",
      "source": [
        "# Choose the number of samples to generate for each digit 0-9\n",
        "samples = 2000\n",
        "\n",
        "count     = np.zeros(10)  # Counters for samples per class 0-9\n",
        "indices   = []            # Store indices of the selected samples\n",
        "\n",
        "for i in range(len(y_train)):\n",
        "    label = y_train[i]\n",
        "    if count[label] < samples:  # Keep adding samples until count reaches 'samples' for each class\n",
        "        indices.append(i)\n",
        "        count[label] += 1\n",
        "\n",
        "# Convert list of indices to numpy array\n",
        "indices = np.array(indices)\n",
        "\n",
        "# Select the samples based on filtered indices\n",
        "x_train     = x_train[indices]\n",
        "y_train     = y_train[indices]"
      ],
      "metadata": {
        "id": "DK2lkv7G8AYP"
      },
      "execution_count": 282,
      "outputs": []
    },
    {
      "cell_type": "markdown",
      "source": [
        "Download the test data. For test data, only use a random sample of 2,000 images. NB: variable 'samples' from above specifies the number of samples per class."
      ],
      "metadata": {
        "id": "FVxCLy4H-Pbp"
      }
    },
    {
      "cell_type": "code",
      "source": [
        "test_set  = torchvision.datasets.MNIST(root='./data', train = False, download = True, transform = transforms.ToTensor())\n",
        "\n",
        "indices = np.random.choice(len(test_set), size=samples, replace=False)\n",
        "\n",
        "# Get the data  labels at the random indices\n",
        "x_test = test_set.data[indices].numpy()\n",
        "y_test = test_set.targets[indices].numpy()\n",
        "\n",
        "print('Test set, shape:', x_test.shape)\n",
        "print('Test labels shape:', y_test.shape)"
      ],
      "metadata": {
        "colab": {
          "base_uri": "https://localhost:8080/"
        },
        "id": "gUgbhsXp-MZJ",
        "outputId": "1078b311-ba30-4349-cc4f-657ecfe236ce"
      },
      "execution_count": 283,
      "outputs": [
        {
          "output_type": "stream",
          "name": "stdout",
          "text": [
            "Test set, shape: (2000, 28, 28)\n",
            "Test labels shape: (2000,)\n"
          ]
        }
      ]
    },
    {
      "cell_type": "markdown",
      "metadata": {
        "id": "9kbAExBRINHA"
      },
      "source": [
        "### Resize the images from 28x28 to 14x14 (optional, recommended).\n",
        "\n",
        "Reasons for resizing the images for VAE training:\n",
        "\n",
        "1. Reduced Dimensionality: This can make the learning task easier for the VAE, especially when dealing with limited computational resources.\n",
        "\n",
        "2. Focus on Essential Features: It forces the model to extract the most salient features of the digits, ignoring less important details. This can lead to a more robust and generalizable model.\n",
        "\n",
        "3. Latent Space Efficiency: Downsampling can help create a more compact and meaningful latent space, making it easier to generate new images and explore variations within the data.\n",
        "\n",
        "4. Reduce Overfitting: With fewer dimensions, there's less chance of the VAE overfitting to the training data."
      ]
    },
    {
      "cell_type": "code",
      "metadata": {
        "id": "U8illNwvO0C-"
      },
      "source": [
        "# NB: you can skip resizing entirely. To do so, simply comment out the code in this field.\n",
        "\n",
        "x_train_p = x_train\n",
        "x_test_p  = x_test\n",
        "\n",
        "# Train data\n",
        "# Initialize array to hold resized images\n",
        "x_train = np.zeros((x_train_p.shape[0], 14, 14))\n",
        "for i in range(x_train_p.shape[0]):\n",
        "  # Resizing the image from 28x28 to 14x14\n",
        "  x_train[i] = cv2.resize(x_train_p[i].astype('float32'), (14,14))\n",
        "\n",
        "# Test data, repeat\n",
        "x_test = np.zeros((x_test_p.shape[0], 14, 14))\n",
        "for i in range(x_test_p.shape[0]):\n",
        "    x_test[i] = cv2.resize(x_test_p[i].astype('float32'), (14, 14))"
      ],
      "execution_count": 284,
      "outputs": []
    },
    {
      "cell_type": "markdown",
      "source": [
        "### Binarize the data (optional, recommended).\n",
        "Binarizing data means converting pixel values to either 0 (black) or 1 (white). This can be useful for our VAE because it:\n",
        "\n",
        "1. Simplifies the data, thus reducing complexity and noise.\n",
        "\n",
        "2. Improves model robustness by ensuring invariance to intensity variation and forcing the model to focus on shape.\n",
        "\n",
        "3. Achieves computational efficiency by reducing memory usage and potentially leading to faster performance.\n",
        "\n",
        "In image data, pixel values are often represented as integers ranging from 0 (black)  to 255 (white). 128 is the midpoint of this range. By using 128 as the threshold, we essentially divide the pixel values into two categories -- black and white.\n",
        "\n",
        "  "
      ],
      "metadata": {
        "id": "SDqGT7ZvqZle"
      }
    },
    {
      "cell_type": "code",
      "metadata": {
        "id": "8reo1YY4mKcM"
      },
      "source": [
        "# NB: you can skip binarizing entirely. To do so, simply comment out the code in this field.\n",
        "\n",
        "x_train = np.where(x_train > 128, 1.0, 0.0).astype(np.float32)\n",
        "x_test  = np.where(x_test > 128, 1.0, 0.0).astype(np.float32)"
      ],
      "execution_count": 285,
      "outputs": []
    },
    {
      "cell_type": "markdown",
      "source": [
        "### Augment the data (optional, recommended but slows down training).\n",
        "\n",
        "Data augmentation is very useful in machine learning, particularly for image recognition tasks. Here's why:\n",
        "\n",
        "1. Increased Dataset Diversity.\n",
        "2. Improved Model Robustness.\n",
        "3. Reduced Overfitting.\n",
        "\n",
        "In this implementation, we implement data augmentation by rotating some images randomly by 90 degrees."
      ],
      "metadata": {
        "id": "Picczx3LbE4s"
      }
    },
    {
      "cell_type": "code",
      "source": [
        "num_samples = 10  # Number of digits to visualize\n",
        "\n",
        "fig, axes = plt.subplots(1, num_samples, figsize=(10, 2))\n",
        "\n",
        "for i in range(num_samples):\n",
        "  # Select a random digit\n",
        "  index = np.random.randint(0, len(x_train))\n",
        "  digit = x_train[index]\n",
        "  label = y_train[index]\n",
        "\n",
        "  # Apply a random rotation (0 or 90 degrees)\n",
        "  k = np.random.randint(0, 1)\n",
        "  rotated_digit = np.rot90(digit, k=k)\n",
        "\n",
        "  # Display the rotated digit\n",
        "  axes[i].imshow(rotated_digit, cmap='gray')\n",
        "  axes[i].set_title(f\"Label: {label}\")\n",
        "  axes[i].axis('off')  # Hide axes\n",
        "\n",
        "plt.tight_layout()\n",
        "plt.show()\n"
      ],
      "metadata": {
        "colab": {
          "base_uri": "https://localhost:8080/",
          "height": 129
        },
        "id": "iKww0eSdc1u8",
        "outputId": "950b4d6b-2c03-4093-f7ad-56e1de03f2cc"
      },
      "execution_count": 300,
      "outputs": [
        {
          "output_type": "display_data",
          "data": {
            "text/plain": [
              "<Figure size 1000x200 with 10 Axes>"
            ],
            "image/png": "[encoded data removed]"
          },
          "metadata": {}
        }
      ]
    },
    {
      "cell_type": "markdown",
      "source": [
        "Rotate both train and test data randomly by 90 degress."
      ],
      "metadata": {
        "id": "MMgYp2xVfN0P"
      }
    },
    {
      "cell_type": "code",
      "source": [
        "# Train data\n",
        "x_train_p = x_train\n",
        "x_train   = []\n",
        "for x in x_train_p:\n",
        "  a = random.randint(0,1)\n",
        "  if a == 1:\n",
        "    # Random rotation angle\n",
        "    # k = random.randint(0, 3)\n",
        "    x_train.append(np.rot90(x, k=1, axes=(0, 1)))\n",
        "  else:\n",
        "    x_train.append(x)\n",
        "\n",
        "x_train = np.array(x_train)\n",
        "\n",
        "# Test data\n",
        "x_test_p = x_test\n",
        "x_test = []\n",
        "for x in x_test_p:\n",
        "  a = random.randint(0,1)\n",
        "  if a == 1:\n",
        "    # Random rotation angle\n",
        "    # k = random.randint(0, 3)\n",
        "    x_test.append(np.rot90(x, k=1, axes=(0, 1)))\n",
        "  else:\n",
        "    x_test.append(x)\n",
        "\n",
        "x_test = np.array(x_test)"
      ],
      "metadata": {
        "id": "1WSGu8Bb_1dn"
      },
      "execution_count": 287,
      "outputs": []
    },
    {
      "cell_type": "markdown",
      "metadata": {
        "id": "mG8G1eZzJnRj"
      },
      "source": [
        "### Create Dataloaders for train and test data.\n",
        "\n",
        "Dataloaders ensure that the data is properly formatted, batched, and shuffled for efficient and effective training and evaluation.\n",
        "\n",
        "For training, use reshuffle and try a batch size of 32. Yoshua Bengio's \"Practical recommendations for gradient-based training of deep architectures\" (2012) recommends using small batch sizes (between 2 and 32) for optimal generalization performance. change depending on performance.\n",
        "  "
      ]
    },
    {
      "cell_type": "code",
      "metadata": {
        "id": "U4EJs6JiY9-G"
      },
      "source": [
        "# Create TensorDatasets\n",
        "train_dataset = TensorDataset(torch.tensor(x_train), torch.tensor(y_train))\n",
        "test_dataset  = TensorDataset(torch.tensor(x_test), torch.tensor(y_test))\n",
        "\n",
        "# Create DataLoaders\n",
        "trainloader = DataLoader(train_dataset, shuffle=True, batch_size=32)\n",
        "testloader  = DataLoader(test_dataset, shuffle=True, batch_size=100)\n",
        "\n",
        "# Image size (default 14x14=196 unless resizing is omitted or modified)\n",
        "image_length = len(x_train[0])\n",
        "image_size   = image_length**2"
      ],
      "execution_count": 288,
      "outputs": []
    },
    {
      "cell_type": "markdown",
      "source": [
        "## Define and train a VAE."
      ],
      "metadata": {
        "id": "DHaL8fOAWTrA"
      }
    },
    {
      "cell_type": "code",
      "metadata": {
        "id": "Xcq9E_SiTRK6"
      },
      "source": [
        "class VAE(nn.Module):\n",
        "    def __init__(self):\n",
        "        super(VAE, self).__init__()\n",
        "\n",
        "        # Encoder: fully connected linear layers [nn.Linear(input_size, output_size)]\n",
        "        self.fc1  = nn.Linear(image_size, 128)  # Flattened 14x14 image mapped onto a hidden representation of size 128 (arbitrary, power of 2).\n",
        "        self.fc21 = nn.Linear(128, 8)   # Maps the hidden representation to an 8-dimensional mean vector (mu).\n",
        "        self.fc22 = nn.Linear(128, 8)   # Maps the hidden representation to an 8-dimensional log-variance vector (log_var).\n",
        "\n",
        "        # Decoder: fully connected linear layers [nn.Linear(input_size, output_size)]\n",
        "        self.fc3  = nn.Linear(8, 128)    # Maps the 8-dimensional latent space vector (z) to a hidden representation of size 128.\n",
        "        self.fc4  = nn.Linear(128, image_size)  # Maps the hidden representation back to the original input size (196).\n",
        "\n",
        "    def encoder(self, x):\n",
        "        # Passes the input (x) through the (fc1).\n",
        "        # Applies the hyperbolic tangent activation function.\n",
        "        h = torch.tanh(self.fc1(x))\n",
        "\n",
        "        # Calculates the mean (fc21) and log-variance (fc22) from the hidden representation (h).\n",
        "        mu      = self.fc21(h)\n",
        "        log_var = self.fc22(h)\n",
        "\n",
        "        return mu, log_var # Having log-variance is nice for numerical stability.\n",
        "\n",
        "    # This method implements the \"reparameterization trick.\"\n",
        "    def reparameterize(self, mu, log_var):\n",
        "        std = torch.exp(0.5 * log_var)  # Standard deviation = exp(0.5 x log_variance).\n",
        "        eps = torch.randn_like(std)     # Generates a random tensor (eps) from a standard normal distribution with the same shape as (std).\n",
        "\n",
        "        return mu + eps * std           # Reparameterization trick, returns (z), allows us to sample from the latent space in a differentiable way.\n",
        "\n",
        "    def decoder(self, z):\n",
        "        # Passes the latent vector (z) through (fc3).\n",
        "        # Applies the hyperbolic tangent activation function.\n",
        "        h = torch.tanh(self.fc3(z))\n",
        "\n",
        "        # Passes the hidden representation (h) through (fc4)\n",
        "        # and applies the sigmoid activation function to ensure the output is\n",
        "        # in the range [0, 1], suitable for representing pixel values.\n",
        "        return torch.sigmoid(self.fc4(h))\n",
        "\n",
        "    def forward(self, x):\n",
        "        # Flattens the input (x) and passes it through the encoder to get (mu) and (log_var).\n",
        "        # -1 in .view() tells PyTorch to autimatically inferthe dimension size based on\n",
        "        # original tenzor's size, 196 is the 14x14 flattened.\n",
        "        mu, log_var = self.encoder(x.view(-1, image_size))\n",
        "\n",
        "        # Sample latent vector (z) using reparameterization trick\n",
        "        z = self.reparameterize(mu, log_var)\n",
        "\n",
        "        # Pass through decoder to reconstruct input\n",
        "        reconstruction = self.decoder(z)\n",
        "\n",
        "        return reconstruction, mu, log_var"
      ],
      "execution_count": 289,
      "outputs": []
    },
    {
      "cell_type": "markdown",
      "source": [
        "### Conditional VAE (bonus).\n",
        "\n",
        "A CVAE allows you to generate digits conditionally. You provide a label (e.g., \"generate a 5\") as an input to the model, and it will try to generate an image of that specific digit.  \n",
        "\n",
        "Unlike for VAE, both the encoder and decoder of a CVAE receive the label information. This guides the encoding and decoding processes to focus on the features relevant to the given label."
      ],
      "metadata": {
        "id": "Skjs8quPXDlf"
      }
    },
    {
      "cell_type": "code",
      "source": [
        "class CVAE(nn.Module):\n",
        "    def __init__(self, num_classes=10):\n",
        "        super(CVAE, self).__init__()\n",
        "\n",
        "        # Encoder: fully connected linear layers [nn.Linear(input_size, output_size)]\n",
        "        self.fc1  = nn.Linear(image_size+num_classes, 128)  # Flattened 14x14 image +10 labels for 0-9 mapped onto a hidden representation of size 128 (arbitrary, power of 2).\n",
        "        self.fc21 = nn.Linear(128, 8)\n",
        "        self.fc22 = nn.Linear(128, 8)\n",
        "\n",
        "        # Decoder: fully connected linear layers [nn.Linear(input_size, output_size)]\n",
        "        self.fc3  = nn.Linear(8+num_classes, 128)    # Maps the 8-dimensional latent space vector (z) +10 labels to a hidden representation of size 128.\n",
        "        self.fc4  = nn.Linear(128, image_size)\n",
        "\n",
        "    def encoder(self, x, labels):\n",
        "        # Concatenates the input vector (x) with labels.\n",
        "        x = torch.cat([x, labels], dim=1)\n",
        "        # Passes (x) through the (fc1).\n",
        "        h = torch.tanh(self.fc1(x))\n",
        "\n",
        "        mu      = self.fc21(h)\n",
        "        log_var = self.fc22(h)\n",
        "\n",
        "        return mu, log_var\n",
        "\n",
        "    def reparameterize(self, mu, log_var):\n",
        "        std = torch.exp(0.5 * log_var)\n",
        "        eps = torch.randn_like(std)\n",
        "\n",
        "        return mu + eps * std\n",
        "\n",
        "    def decoder(self, z, labels):\n",
        "        # Concatenates the latent vector (z) with labels.\n",
        "        z = torch.cat([z, labels], dim=1)\n",
        "        # Passes the latent vector (z) through (fc3).\n",
        "        h = torch.tanh(self.fc3(z))\n",
        "\n",
        "        return torch.sigmoid(self.fc4(h))\n",
        "\n",
        "    def forward(self, x, labels):\n",
        "        # Flattens the input (x) and joins it with labels\n",
        "        mu, log_var = self.encoder(x.view(-1, image_size), labels)\n",
        "        z = self.reparameterize(mu, log_var)\n",
        "\n",
        "        return self.decoder(z,labels), mu, log_var"
      ],
      "metadata": {
        "id": "oB0KaiqYGPMN"
      },
      "execution_count": 290,
      "outputs": []
    },
    {
      "cell_type": "markdown",
      "source": [
        "### Choose and initialise the model.\n",
        "Set preference to 1 to use CVAE. Select the device to be GPU if available, else use CPU."
      ],
      "metadata": {
        "id": "_7pGnUEo7RJZ"
      }
    },
    {
      "cell_type": "code",
      "source": [
        "preference = 1 # if 1 CVAE else VAE\n",
        "\n",
        "# Instantiate the model\n",
        "if preference == 1:\n",
        "  model = CVAE()\n",
        "else:\n",
        "  model = VAE()\n",
        "\n",
        "# Check if CUDA is available and set device accordingly\n",
        "if torch.cuda.is_available():\n",
        "    device = torch.device(\"cuda\")\n",
        "else:\n",
        "    device = torch.device(\"cpu\")\n",
        "\n",
        "# Move the model to the chosen device (cuda or cpu)\n",
        "model.to(device)"
      ],
      "metadata": {
        "colab": {
          "base_uri": "https://localhost:8080/"
        },
        "id": "-0h_AdMMGeNf",
        "outputId": "a8020cad-81ec-471d-9d0b-ce0bbc98d8f3"
      },
      "execution_count": 291,
      "outputs": [
        {
          "output_type": "execute_result",
          "data": {
            "text/plain": [
              "CVAE(\n",
              "  (fc1): Linear(in_features=206, out_features=128, bias=True)\n",
              "  (fc21): Linear(in_features=128, out_features=8, bias=True)\n",
              "  (fc22): Linear(in_features=128, out_features=8, bias=True)\n",
              "  (fc3): Linear(in_features=18, out_features=128, bias=True)\n",
              "  (fc4): Linear(in_features=128, out_features=196, bias=True)\n",
              ")"
            ]
          },
          "metadata": {},
          "execution_count": 291
        }
      ]
    },
    {
      "cell_type": "markdown",
      "source": [
        "### Define loss, optimizer and learning rate scheduler.\n",
        "\n",
        "Set up the optimization process for the VAE, using the Adam optimizer with a learning rate scheduler to dynamically adjust the learning rate during training. The loss function combines the reconstruction error and the KL divergence to ensure that the VAE learns to both reconstruct the input data and generate new data from a well-behaved latent space."
      ],
      "metadata": {
        "id": "O0pgwaGgrWBw"
      }
    },
    {
      "cell_type": "code",
      "metadata": {
        "id": "S1TCIO3_TRAu"
      },
      "source": [
        "optimizer = torch.optim.Adam(model.parameters(), lr = 0.002)\n",
        "scheduler = torch.optim.lr_scheduler.ReduceLROnPlateau(\n",
        "                             optimizer, 'max', factor = 0.5,\n",
        "                             patience = 5, threshold = 0.001, cooldown = 0,\n",
        "                             min_lr = 0.0001)\n",
        "\n",
        "def loss_function(y, x, mu, std):\n",
        "    ERR = F.binary_cross_entropy(y, x.view(-1, 196), reduction = 'sum')\n",
        "    KLD = -0.5 * torch.sum(1 + torch.log(std**2) - mu**2 - std**2)\n",
        "    return ERR + KLD, -ERR, -KLD"
      ],
      "execution_count": 292,
      "outputs": []
    },
    {
      "cell_type": "markdown",
      "source": [
        "### Train, validate, & test."
      ],
      "metadata": {
        "id": "E1hWcpZIrdue"
      }
    },
    {
      "cell_type": "code",
      "metadata": {
        "colab": {
          "base_uri": "https://localhost:8080/"
        },
        "id": "4yZudAPLT0Gc",
        "outputId": "ecfcc52b-353e-455b-d885-f6def68bd08c"
      },
      "source": [
        "#  Initialize the counter for weight updates\n",
        "count = 0\n",
        "# Initialize lists to store training & validation metrics\n",
        "err_l, kld_l, n_wu, vestl, update = [], [], [], [], []\n",
        "\n",
        "if preference != 1:\n",
        "  # Step (1) Training loop, iterates through 20 epochs\n",
        "  for epoch in range(1, 20):\n",
        "\n",
        "      # Reset training loss\n",
        "      train_loss = 0\n",
        "      # Iterate through training data in batches\n",
        "      for batch_idx, (train_data, _) in enumerate(trainloader):\n",
        "\n",
        "          model.train() # Set the model to train mode\n",
        "          train_data = train_data.to(device) # Use GPU if possible\n",
        "          bsize = train_data.shape[0] # Get batch size\n",
        "\n",
        "          recon_batch, mu, std = model(train_data) # Perform a forward pass through (C)VAE\n",
        "          loss, err, kld = loss_function(recon_batch, train_data, mu, std) # Calculate training metrics\n",
        "\n",
        "          loss.backward() # Perform backpropagation to get gradients\n",
        "          train_loss += err.item() + kld.item() # Update the training loss\n",
        "\n",
        "          optimizer.step() # Update model's weights based on gradients\n",
        "          optimizer.zero_grad() # Reset gradients for next iteration\n",
        "\n",
        "          # Store training metrics and update counts\n",
        "          err_l.append(err.item()/bsize)\n",
        "          kld_l.append(kld.item()/bsize)\n",
        "          count += 1\n",
        "          n_wu.append(count)\n",
        "\n",
        "          # (Step 2, opt) Validation stage\n",
        "          if (count%100 == 0): # Validate every 100 weight updates\n",
        "\n",
        "            model.eval() # Set model to evaluation mode (dropout and batch normalisation disabled) for validation\n",
        "            val_data, _ = next(iter(testloader)) # Get a batch from test data\n",
        "            val_data = val_data.to(device)\n",
        "\n",
        "            vrecon, vmu, vstd = model(val_data) # Perform a forward pass through (C)VAE using  validation data\n",
        "            vloss, verr, vkld = loss_function(vrecon, val_data, vmu, vstd) # Calculate validation loss\n",
        "\n",
        "            # Store validation metrics\n",
        "            vestl.append(verr/100)\n",
        "            update.append(count)\n",
        "\n",
        "      # Update the learning rate based on the training loss\n",
        "      scheduler.step(train_loss / len(trainloader.dataset))\n",
        "\n",
        "      # Print average train loss for each epoch\n",
        "      print('====> Epoch: {} Average loss: {:.4f}'.format(epoch, train_loss / len(trainloader.dataset)))\n",
        "\n",
        "      # (Step 3) Set model to evaluation mode for testing\n",
        "      model.eval()\n",
        "\n",
        "      test_loss = 0 # Reset test loss\n",
        "      # Disable gradient calculation to save memory and speed up computation\n",
        "      with torch.no_grad():\n",
        "          # Iterate through the test data\n",
        "          for test_data, _ in testloader:\n",
        "              # Perform a forward pass through test data, calculate test loss\n",
        "              test_data = test_data.to(device)\n",
        "              recon, mu, std = model(test_data)\n",
        "              loss, err, kld = loss_function(recon, test_data, mu, std)\n",
        "              # Update test loss\n",
        "              test_loss += err + kld\n",
        "\n",
        "      # Print average test loss\n",
        "      print('====> Test set loss: {:.4f}'.format(test_loss/len(testloader.dataset)))\n",
        "\n",
        "else:\n",
        "    # Step (1) Training loop, iterates through 20 epochs\n",
        "    for epoch in range(1, 20):\n",
        "\n",
        "      train_loss = 0\n",
        "      for batch_idx, (train_data, labels) in enumerate(trainloader):\n",
        "\n",
        "          model.train()\n",
        "          # In addition to train data, use one-hot encoded labels (specify num of classes)\n",
        "          train_data, labels = train_data.to(device), F.one_hot(labels, num_classes=10).float().to(device)\n",
        "          bsize = train_data.shape[0]\n",
        "\n",
        "          recon_batch, mu, std = model(train_data, labels)\n",
        "          loss, err, kld = loss_function(recon_batch, train_data, mu, std)\n",
        "\n",
        "          loss.backward()\n",
        "          train_loss += err.item() + kld.item()\n",
        "\n",
        "          optimizer.step()\n",
        "          optimizer.zero_grad()\n",
        "\n",
        "          err_l.append(err.item()/bsize)\n",
        "          kld_l.append(kld.item()/bsize)\n",
        "          count += 1\n",
        "          n_wu.append(count)\n",
        "\n",
        "          # (Step 2, opt) Validation stage\n",
        "          if (count%100 == 0):\n",
        "            model.eval()\n",
        "            # In addition to validation data, use one-hot encoded labels (specify num of classes)\n",
        "            val_data, val_labels = next(iter(testloader))\n",
        "            val_data, val_labels = val_data.to(device) , F.one_hot(val_labels, num_classes=10).float().to(device)\n",
        "\n",
        "            vrecon, vmu, vstd = model(val_data, val_labels)\n",
        "            vloss, verr, vkld = loss_function(vrecon, val_data, vmu, vstd)\n",
        "            vestl.append(verr/100)\n",
        "            update.append(count)\n",
        "\n",
        "      scheduler.step(train_loss / len(trainloader.dataset))\n",
        "\n",
        "      print('====> Epoch: {} Average loss: {:.4f}'.format(epoch, train_loss / len(trainloader.dataset)))\n",
        "\n",
        "      # (Step 3) Set model to evaluation mode for testing\n",
        "      model.eval()\n",
        "      test_loss = 0\n",
        "      with torch.no_grad():\n",
        "          for test_data, test_labels in testloader:\n",
        "              # In addition to test data, use one-hot encoded labels (specify num of classes)\n",
        "              test_data, test_labels = test_data.to(device) , F.one_hot(test_labels, num_classes=10).float().to(device)\n",
        "\n",
        "              recon, mu, std = model(test_data, test_labels)\n",
        "              loss, err, kld = loss_function(recon, test_data, mu, std)\n",
        "              test_loss += err + kld\n",
        "\n",
        "      test_loss /= len(testloader.dataset)\n",
        "      print('====> Test set loss: {:.4f}'.format(test_loss))"
      ],
      "execution_count": 293,
      "outputs": [
        {
          "output_type": "stream",
          "name": "stdout",
          "text": [
            "====> Epoch: 1 Average loss: -49.5034\n",
            "====> Test set loss: -40.4526\n",
            "====> Epoch: 2 Average loss: -39.3574\n",
            "====> Test set loss: -37.9774\n",
            "====> Epoch: 3 Average loss: -37.9577\n",
            "====> Test set loss: -36.6147\n",
            "====> Epoch: 4 Average loss: -36.9725\n",
            "====> Test set loss: -35.7595\n",
            "====> Epoch: 5 Average loss: -36.1642\n",
            "====> Test set loss: -35.2442\n",
            "====> Epoch: 6 Average loss: -35.7049\n",
            "====> Test set loss: -34.8414\n",
            "====> Epoch: 7 Average loss: -35.3305\n",
            "====> Test set loss: -34.7224\n",
            "====> Epoch: 8 Average loss: -35.0222\n",
            "====> Test set loss: -34.1178\n",
            "====> Epoch: 9 Average loss: -34.8093\n",
            "====> Test set loss: -33.8339\n",
            "====> Epoch: 10 Average loss: -34.5799\n",
            "====> Test set loss: -33.9269\n",
            "====> Epoch: 11 Average loss: -34.4525\n",
            "====> Test set loss: -33.6782\n",
            "====> Epoch: 12 Average loss: -34.3111\n",
            "====> Test set loss: -33.7537\n",
            "====> Epoch: 13 Average loss: -34.1479\n",
            "====> Test set loss: -33.4958\n",
            "====> Epoch: 14 Average loss: -34.0200\n",
            "====> Test set loss: -33.4393\n",
            "====> Epoch: 15 Average loss: -33.9272\n",
            "====> Test set loss: -33.4210\n",
            "====> Epoch: 16 Average loss: -33.8505\n",
            "====> Test set loss: -33.1325\n",
            "====> Epoch: 17 Average loss: -33.7242\n",
            "====> Test set loss: -33.0689\n",
            "====> Epoch: 18 Average loss: -33.6737\n",
            "====> Test set loss: -33.0440\n",
            "====> Epoch: 19 Average loss: -33.5398\n",
            "====> Test set loss: -32.9250\n"
          ]
        }
      ]
    },
    {
      "cell_type": "markdown",
      "source": [
        "## Plot reconstruction error and KL divergence (ELBO terms) as a function of weight update.\n",
        "**Purpose of the plot:** Check (1) whether the model is successfully minimizing both the reconstruction error and KL divergence, and (2) how the model is balancing the two terms of the ELBO.\n",
        "\n",
        "Ideally, both should decrease over time. If one term is not decreasing or is increasing, it might indicate a problem with the model or training process.\n",
        "\n",
        "\n",
        "**Notes:** ELBO stands for Evidence Lower Bound, which is the objective function that (C)VAEs try to maximize. The reconstruction error and KL divergence are the two main components of the ELBO. We can create a plot that visualizes the reconstruction error and KL divergence during the training of a (C)VAE.\n",
        "\n"
      ],
      "metadata": {
        "id": "776rqq2asZQt"
      }
    },
    {
      "cell_type": "code",
      "metadata": {
        "colab": {
          "base_uri": "https://localhost:8080/",
          "height": 351
        },
        "id": "vykZE5BaOdYF",
        "outputId": "8d09b848-6282-42f2-c68a-a9eebc7108ae"
      },
      "source": [
        "plt.figure(figsize=(5,3), dpi=100)\n",
        "plt.plot(n_wu, err_l, 'green', label='Reconstruction error')\n",
        "plt.plot(n_wu, kld_l, 'blue', label='KL Divergence')\n",
        "plt.title('Plotting first and second term of ELBO')\n",
        "plt.xlabel('Number of weight updates')\n",
        "plt.ylabel('Value')\n",
        "plt.legend()"
      ],
      "execution_count": 294,
      "outputs": [
        {
          "output_type": "execute_result",
          "data": {
            "text/plain": [
              "<matplotlib.legend.Legend at 0x780cc818eb90>"
            ]
          },
          "metadata": {},
          "execution_count": 294
        },
        {
          "output_type": "display_data",
          "data": {
            "text/plain": [
              "<Figure size 500x300 with 1 Axes>"
            ],
            "image/png": "[encoded data removed]"
          },
          "metadata": {}
        }
      ]
    },
    {
      "cell_type": "markdown",
      "source": [
        "## Compare reconstruction error on training vs validation data.\n",
        "**Purpose of the plot:** This plot helps us monitor the training process and check for overfitting.\n",
        "\n",
        "Ideally, you want to see both the training and validation log likelihoods increasing (since higher log likelihood indicates better reconstruction) and staying close together. This indicates that the model is improving its performance on both the seen (training) and unseen (validation) data.\n",
        "\n"
      ],
      "metadata": {
        "id": "ud4qLz3CuVd1"
      }
    },
    {
      "cell_type": "code",
      "source": [
        "vestl = [x.cpu().detach() for x in vestl]\n",
        "\n",
        "plt.figure(figsize=(5,3), dpi=100)\n",
        "plt.plot(err_l, 'green', label='Training Reconstruction eror')\n",
        "\n",
        "plt.plot(update, vestl, 'blue', label='Validation Reconstruction error')\n",
        "plt.title('Reconstruction error of ELBO: Training vs Validation')\n",
        "plt.xlabel('Number of weight updates')\n",
        "plt.ylabel('Value')\n",
        "plt.legend()"
      ],
      "metadata": {
        "id": "2Uvw4baGYh2p",
        "colab": {
          "base_uri": "https://localhost:8080/",
          "height": 351
        },
        "outputId": "78526e70-9b4a-4c7a-be9a-4b20798643af"
      },
      "execution_count": 295,
      "outputs": [
        {
          "output_type": "execute_result",
          "data": {
            "text/plain": [
              "<matplotlib.legend.Legend at 0x780cbd58f310>"
            ]
          },
          "metadata": {},
          "execution_count": 295
        },
        {
          "output_type": "display_data",
          "data": {
            "text/plain": [
              "<Figure size 500x300 with 1 Axes>"
            ],
            "image/png": "[encoded data removed]"
          },
          "metadata": {}
        }
      ]
    },
    {
      "cell_type": "markdown",
      "source": [
        "## Visualizing input and output from the VAE from train and test dataset.\n",
        "**Purpose of the plot:** evaluate the VAE's reconstruction ability for the first (or specific for CVAE) digit.\n",
        "\n",
        "For CVAE, select a digit you want to generate."
      ],
      "metadata": {
        "id": "LV72MV__svpQ"
      }
    },
    {
      "cell_type": "code",
      "source": [
        "# Choose the digit you want to generate\n",
        "digit_of_choice = 1  # Example: Generate a '5'"
      ],
      "metadata": {
        "id": "fJbydIriV94F"
      },
      "execution_count": 296,
      "outputs": []
    },
    {
      "cell_type": "code",
      "metadata": {
        "colab": {
          "base_uri": "https://localhost:8080/",
          "height": 407
        },
        "id": "pFfkph9b9z1t",
        "outputId": "fef3850a-58ab-4f81-934d-d7f90a33d805"
      },
      "source": [
        "model.eval()\n",
        "\n",
        "# Set up the figure for plotting\n",
        "fig, axarr = plt.subplots(2, 2, figsize=(6, 4))  # 2 rows (train/test), 2 columns (input/output)\n",
        "\n",
        "if preference != 1:\n",
        "  # Train data\n",
        "  train_data, _ = next(iter(trainloader))\n",
        "  train_data = train_data.to(device)\n",
        "  train_recon, _, _ = model(train_data[0])  # Get reconstruction for the first image in the batch\n",
        "  train_recon = train_recon[0].reshape((image_length, image_length))\n",
        "\n",
        "  # Plot train data\n",
        "  axarr[0, 0].imshow(train_data[0].cpu().detach().numpy(), cmap='gray')  # Input\n",
        "  axarr[0, 0].set_title('Train Input')\n",
        "  axarr[0, 1].imshow(train_recon.cpu().detach().numpy(), cmap='gray')  # Output\n",
        "  axarr[0, 1].set_title('Train Reconstruction')\n",
        "\n",
        "  # Test data\n",
        "  test_data, _ = next(iter(testloader))\n",
        "  test_data = test_data.to(device)\n",
        "  test_recon, _, _ = model(test_data[0])  # Get reconstruction for the first image in the batch\n",
        "  test_recon = test_recon[0].reshape((image_length, image_length))\n",
        "\n",
        "  # Plot test data\n",
        "  axarr[1, 0].imshow(test_data[0].cpu().detach().numpy(), cmap='gray')  # Input\n",
        "  axarr[1, 0].set_title('Test Input')\n",
        "  axarr[1, 1].imshow(test_recon.cpu().detach().numpy(), cmap='gray')  # Output\n",
        "  axarr[1, 1].set_title('Test Reconstruction')\n",
        "\n",
        "else:\n",
        "  # Train data\n",
        "  train_data, train_labels = next(iter(trainloader))\n",
        "  train_data, train_labels = train_data.to(device), train_labels.to(device)\n",
        "\n",
        "  # Find an image with the desired digit in the batch\n",
        "  indices = (train_labels == digit_of_choice).nonzero(as_tuple=True)[0]\n",
        "\n",
        "  if len(indices) > 0:\n",
        "    label = torch.tensor([digit_of_choice]).to(device)\n",
        "    one_hot_label = F.one_hot(label, num_classes=10).float().to(device)\n",
        "    train_recon, _, _ = model(train_data[indices[0]].unsqueeze(0), one_hot_label)\n",
        "    train_recon = train_recon[0].reshape((image_length, image_length))\n",
        "\n",
        "    # Plot train data\n",
        "    axarr[0, 0].imshow(train_data[indices[0]].cpu().detach().numpy(), cmap='gray')\n",
        "    axarr[0, 0].set_title(f'Train Input (Digit {digit_of_choice})')\n",
        "    axarr[0, 1].imshow(train_recon.cpu().detach().numpy(), cmap='gray')\n",
        "    axarr[0, 1].set_title(f'Train Reconstruction (Digit {digit_of_choice})')\n",
        "\n",
        "  # Test data\n",
        "  test_data, test_labels = next(iter(testloader))\n",
        "  test_data, test_labels = test_data.to(device), test_labels.to(device)\n",
        "\n",
        "  # Find an image with the desired digit in the batch\n",
        "  indices = (test_labels == digit_of_choice).nonzero(as_tuple=True)[0]\n",
        "  if len(indices) > 0:\n",
        "      # print(train_data[indices[0]].unsqueeze(0).shape)\n",
        "      # print(torch.tensor([digit_of_choice]).shape)\n",
        "      label = torch.tensor([digit_of_choice]).to(device)\n",
        "      one_hot_label = F.one_hot(label, num_classes=10).float().to(device)\n",
        "      # print(one_hot_label.shape)\n",
        "      test_recon, _, _ = model(test_data[indices[0]].unsqueeze(0), one_hot_label)\n",
        "      test_recon = test_recon[0].reshape((image_length, image_length))\n",
        "\n",
        "      # Plot test data\n",
        "      axarr[1, 0].imshow(test_data[indices[0]].cpu().detach().numpy(), cmap='gray')\n",
        "      axarr[1, 0].set_title(f'Test Input (Digit {digit_of_choice})')\n",
        "      axarr[1, 1].imshow(test_recon.cpu().detach().numpy(), cmap='gray')\n",
        "      axarr[1, 1].set_title(f'Test Reconstruction (Digit {digit_of_choice})')\n",
        "\n",
        "\n",
        "plt.tight_layout()  # Adjust spacing between subplots\n",
        "plt.show()"
      ],
      "execution_count": 297,
      "outputs": [
        {
          "output_type": "display_data",
          "data": {
            "text/plain": [
              "<Figure size 600x400 with 4 Axes>"
            ],
            "image/png": "[encoded data removed]"
          },
          "metadata": {}
        }
      ]
    },
    {
      "cell_type": "markdown",
      "source": [
        "## Synthesizing new MNIST images from a standard Gaussian distribution.\n",
        "**Purpose of the plot:**  explore and evaluate the capabilities of our (C)VAE. Visualize the learned latent space and generate new images.\n",
        "\n",
        "For VAE generate a sequence of 10 random digits. For CVAE, generate all digits in 0-9."
      ],
      "metadata": {
        "id": "J1Fe7vq-tp1P"
      }
    },
    {
      "cell_type": "code",
      "source": [
        "generated_images = []  # List to store generated images\n",
        "\n",
        "if preference != 1:  # VAE - Generate random images\n",
        "  for i in range(10):  # Generate 10 images\n",
        "    x = np.random.normal(0, 1, 8)  # Sample from latent space\n",
        "    x = x.astype(np.float32)\n",
        "    x = torch.from_numpy(x).to(device)\n",
        "\n",
        "    recon = model.decoder(x)  # Decode the latent vector\n",
        "    generated_images.append(recon.reshape((image_length, image_length)))\n",
        "\n",
        "elif preference == 1:  # CVAE - Generate 0-9 sequence\n",
        "  for digit in range(10):\n",
        "    # Create a label for the desired digit\n",
        "    label = torch.tensor([digit]).to(device)\n",
        "    # One-hot encode the label (if required by your model)\n",
        "    label = F.one_hot(label, num_classes=10).float().to(device)\n",
        "\n",
        "    x = np.random.normal(0, 1, 8)  # Sample from latent space\n",
        "    x = x.astype(np.float32)\n",
        "    x = torch.from_numpy(x).to(device)\n",
        "\n",
        "    # add dimension to x\n",
        "    recon = model.decoder(x.unsqueeze(0), label)\n",
        "    generated_images.append(recon.reshape((image_length, image_length)))\n",
        "\n",
        "fig, axarr = plt.subplots(1, 10, figsize=(10, 1))  # 1 row, 10 columns\n",
        "for i, image in enumerate(generated_images):\n",
        "  axarr[i].imshow(image.detach().cpu().numpy(), cmap='gray')\n",
        "  axarr[i].axis('off')  # Hide axes\n",
        "\n",
        "plt.tight_layout()\n",
        "plt.show()"
      ],
      "metadata": {
        "colab": {
          "base_uri": "https://localhost:8080/",
          "height": 98
        },
        "id": "gHU59bBoXPwQ",
        "outputId": "006212c8-b9f0-4e62-e489-ee9086d08fb7"
      },
      "execution_count": 298,
      "outputs": [
        {
          "output_type": "display_data",
          "data": {
            "text/plain": [
              "<Figure size 1000x100 with 10 Axes>"
            ],
            "image/png": "[encoded data removed]"
          },
          "metadata": {}
        }
      ]
    },
    {
      "cell_type": "markdown",
      "source": [
        "## VAE interpretability."
      ],
      "metadata": {
        "id": "GTRTUbG0-KLj"
      }
    }
  ]
}